{
 "cells": [
  {
   "cell_type": "markdown",
   "metadata": {},
   "source": [
    "\n",
    "https://jinja.palletsprojects.com/en/stable/templates/\n",
    "\n",
    "\n",
    "Template Designer Documentation\n",
    "模板設計器文件¶\n",
    "This document describes the syntax and semantics of the template engine and will be most useful as reference to those creating Jinja templates. As the template engine is very flexible, the configuration from the application can be slightly different from the code presented here in terms of delimiters and behavior of undefined values.\n",
    "本文檔描述了模板引擎的語法和語義，對於創建 Jinja 模板的人來說非常有用。由於模板引擎非常靈活，應用程式的配置在分隔符號和未定義值的行為方面可能與此處提供的程式碼略有不同。\n",
    "\n",
    "Synopsis摘要¶\n",
    "A Jinja template is simply a text file. Jinja can generate any text-based format (HTML, XML, CSV, LaTeX, etc.). A Jinja template doesn’t need to have a specific extension: .html, .xml, or any other extension is just fine.\n",
    "Jinja 範本只是一個文字檔。 Jinja 可以產生任何基於文字的格式（HTML、XML、CSV、LaTeX 等）。 Jinja 範本不需要有特定的副檔名： .html 、 .xml 或任何其他副檔名都可以。\n",
    "\n",
    "A template contains variables and/or expressions, which get replaced with values when a template is rendered; and tags, which control the logic of the template. The template syntax is heavily inspired by Django and Python.\n",
    "模板包含變數和/或表達式 ，當模板被呈現時，它們會被替換為值；和標籤 ，控制模板的邏輯。模板語法很大程度上受到 Django 和 Python 的啟發。\n",
    "\n",
    "Below is a minimal template that illustrates a few basics using the default Jinja configuration. We will cover the details later in this document:\n",
    "下面是一個最小模板，使用預設 Jinja 配置展示了一些基礎知識。我們將在本文檔的後面介紹詳細資訊：\n",
    "\n",
    "<!DOCTYPE html>\n",
    "<html lang=\"en\">\n",
    "<head>\n",
    "    <title>My Webpage</title>\n",
    "</head>\n",
    "<body>\n",
    "    <ul id=\"navigation\">\n",
    "    {% for item in navigation %}\n",
    "        <li><a href=\"{{ item.href }}\">{{ item.caption }}</a></li>\n",
    "    {% endfor %}\n",
    "    </ul>\n",
    "\n",
    "    <h1>My Webpage</h1>\n",
    "    {{ a_variable }}\n",
    "\n",
    "    {# a comment #}\n",
    "</body>\n",
    "</html>\n",
    "The following example shows the default configuration settings. An application developer can change the syntax configuration from {% foo %} to <% foo %>, or something similar.\n",
    "以下範例顯示了預設配置設定。應用程式開發人員可以將語法配置從 {% foo %} 更改為 <% foo %> 或類似內容。\n",
    "\n",
    "There are a few kinds of delimiters. The default Jinja delimiters are configured as follows:\n",
    "有幾種類型的分隔符號。預設的 Jinja 分隔符號配置如下：\n",
    "\n",
    "{% ... %} for Statements\n",
    "{% ... %} 用於語句\n",
    "\n",
    "{{ ... }} for Expressions to print to the template output\n",
    "{{ ... }} 用於表達式列印到模板輸出\n",
    "\n",
    "{# ... #} for Comments not included in the template output\n",
    "{# ... #} 表示模板輸出中未包含的註釋"
   ]
  }
 ],
 "metadata": {
  "language_info": {
   "name": "python"
  }
 },
 "nbformat": 4,
 "nbformat_minor": 2
}
