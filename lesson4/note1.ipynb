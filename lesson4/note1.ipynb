{
 "cells": [
  {
   "cell_type": "markdown",
   "metadata": {},
   "source": [
    "google Flask\n",
    "\n",
    "\n",
    "\n",
    "\n",
    "\n",
    "https://flask.palletsprojects.com/en/stable/\n",
    "\n",
    "\n",
    "\n",
    "\n",
    "\n",
    "https://flask.palletsprojects.com/en/stable/installation/\n",
    "\n",
    "\n",
    "\n",
    "Dependencies\n",
    "These distributions will be installed automatically when installing Flask.\n",
    "\n",
    "Werkzeug implements WSGI, the standard Python interface between applications and servers.\n",
    "\n",
    "Jinja is a template language that renders the pages your application serves.\n",
    "\n",
    "MarkupSafe comes with Jinja. It escapes untrusted input when rendering templates to avoid injection attacks.\n",
    "\n",
    "ItsDangerous securely signs data to ensure its integrity. This is used to protect Flask’s session cookie.\n",
    "\n",
    "Click is a framework for writing command line applications. It provides the flask command and allows adding custom management commands.\n",
    "\n",
    "Blinker provides support for Signals.\n",
    "\n",
    "\n",
    "\n",
    "\n",
    "\n",
    "\n",
    "Activate the environment\n",
    "Before you work on your project, activate the corresponding environment:\n",
    "\n",
    "macOS/LinuxWindows\n",
    "> .venv\\Scripts\\activate\n",
    "Your shell prompt will change to show the name of the activated environment.\n",
    "\n",
    "Install Flask\n",
    "Within the activated environment, use the following command to install Flask:\n",
    "\n",
    "$ pip install Flask\n",
    "Flask is now installed. Check out the Quickstart or go to the Documentation Overview.\n",
    "\n"
   ]
  }
 ],
 "metadata": {
  "language_info": {
   "name": "python"
  }
 },
 "nbformat": 4,
 "nbformat_minor": 2
}
