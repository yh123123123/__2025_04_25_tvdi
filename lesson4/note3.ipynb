{
 "cells": [
  {
   "cell_type": "code",
   "execution_count": null,
   "metadata": {},
   "outputs": [],
   "source": [
    "<!DOCTYPE html>\n",
    "<html lang=\"en\">\n",
    "\n",
    "<head>\n",
    "    <meta charset=\"UTF-8\" />\n",
    "    <meta name=\"viewport\" content=\"width=device-width, initial-scale=1\" />\n",
    "    <title>我的網頁Title</title>\n",
    "    <link rel=\"stylesheet\" href=\"{{url_for('static',filename='css/index.css')}}\">\n",
    "</head>\n",
    "\n",
    "<body>\n",
    "    <header>Header content</header>\n",
    "    <main>Main content</main>\n",
    "    <aside>Sidebar content</aside>\n",
    "    <footer>Footer content</footer>\n",
    "</body>\n",
    "\n",
    "</html>"
   ]
  },
  {
   "cell_type": "markdown",
   "metadata": {},
   "source": [
    "index.html"
   ]
  },
  {
   "cell_type": "code",
   "execution_count": null,
   "metadata": {},
   "outputs": [],
   "source": [
    "body,\n",
    "html {\n",
    "    margin: 0;\n",
    "    padding: 0;\n",
    "}\n",
    "\n",
    "#wrapper {\n",
    "    width: 95%;\n",
    "    max-width: 1200px;\n",
    "    margin: 0 auto;\n",
    "}\n",
    "\n",
    "header,\n",
    "main,\n",
    "aside,\n",
    "footer {\n",
    "    padding: 1rem;\n",
    "}\n",
    "\n",
    "img {\n",
    "    max-width: 100%;\n",
    "    height: auto;\n",
    "}\n",
    "\n",
    "/* Base styles for mobile first */\n",
    "#wrapper {\n",
    "    width: 95%;\n",
    "}\n",
    "\n",
    "/* Tablets and up */\n",
    "@media (min-width: 768px) {\n",
    "    #wrapper {\n",
    "        width: 90%;\n",
    "    }\n",
    "\n",
    "    main {\n",
    "        float: left;\n",
    "        width: 70%;\n",
    "    }\n",
    "\n",
    "    aside {\n",
    "        float: right;\n",
    "        width: 30%;\n",
    "    }\n",
    "}\n",
    "\n",
    "/* Desktops and up */\n",
    "@media (min-width: 992px) {\n",
    "    #wrapper {\n",
    "        max-width: 1140px;\n",
    "    }\n",
    "}"
   ]
  },
  {
   "cell_type": "markdown",
   "metadata": {},
   "source": [
    "index.css"
   ]
  },
  {
   "cell_type": "code",
   "execution_count": null,
   "metadata": {},
   "outputs": [],
   "source": [
    "from flask import Flask, render_template\n",
    "\n",
    "\n",
    "app = Flask(__name__)\n",
    "\n",
    "@app.route(\"/\")\n",
    "def index():\n",
    "    return render_template(\"index.html\")\n",
    "\n",
    "@app.route(\"/user\")\n",
    "def user():\n",
    "    return \"<h1>Hello, World!</h1><p>02頁</p>\"\n",
    "\n",
    "@app.route(\"/product\")\n",
    "def userproduct():\n",
    "    return \"<h1>Hello, World!</h1><p>03頁</p>\"\n"
   ]
  },
  {
   "cell_type": "markdown",
   "metadata": {},
   "source": [
    ">index.py"
   ]
  }
 ],
 "metadata": {
  "language_info": {
   "name": "python"
  }
 },
 "nbformat": 4,
 "nbformat_minor": 2
}
