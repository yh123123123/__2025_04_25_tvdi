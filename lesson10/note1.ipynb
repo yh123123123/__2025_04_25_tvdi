{
 "cells": [
  {
   "cell_type": "markdown",
   "metadata": {},
   "source": [
    "<img src=\"https://r2cdn.perplexity.ai/pplx-full-logo-primary-dark%402x.png\" class=\"logo\" width=\"120\"/>\n",
    "\n",
    "## Scoop Installer: Running as Administrator Disabled by Default\n",
    "\n",
    "By default, the Scoop installer does not allow installation from an administrator (elevated) PowerShell session. This restriction is in place for security reasons and to encourage users to install Scoop in their user profile directory rather than system-wide[^1].\n",
    "\n",
    "### How to Install Scoop (Default Method)\n",
    "\n",
    "- Open a **non-admin** PowerShell window.\n",
    "- Run the following command:\n",
    "\n",
    "```powershell\n",
    "irm get.scoop.sh | iex\n",
    "```\n",
    "\n",
    "This installs Scoop to `C:\\Users\\<YOUR USERNAME>\\scoop` by default[^1].\n",
    "\n",
    "\n",
    "### Installing as Administrator (If Required)\n",
    "\n",
    "If you have a specific need to install Scoop as administrator, you must manually download the installer and use the `-RunAsAdmin` parameter in an elevated PowerShell session:\n",
    "\n",
    "1. Download the installer script:\n",
    "\n",
    "```powershell\n",
    "irm get.scoop.sh -outfile 'install.ps1'\n",
    "```\n",
    "\n",
    "2. Run the installer with admin privileges and the `-RunAsAdmin` flag:\n",
    "\n",
    "```powershell\n",
    ".\\install.ps1 -RunAsAdmin\n",
    "```\n",
    "\n",
    "Or, as a one-liner:\n",
    "\n",
    "```powershell\n",
    "iex \"& {$(irm get.scoop.sh)} -RunAsAdmin\"\n",
    "```\n",
    "\n",
    "\n",
    "This process is only recommended if you fully understand the implications of installing system-wide, as it bypasses the default security measure[^1].\n",
    "\n",
    "For more details and advanced installation options, refer to the official Scoop installation guide on GitHub[^1].\n",
    "\n",
    "<div style=\"text-align: center\">⁂</div>\n",
    "\n",
    "[^1]: Install\n",
    "\n"
   ]
  }
 ],
 "metadata": {
  "language_info": {
   "name": "python"
  }
 },
 "nbformat": 4,
 "nbformat_minor": 2
}
