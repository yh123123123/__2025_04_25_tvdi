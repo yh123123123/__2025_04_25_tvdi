{
 "cells": [
  {
   "cell_type": "markdown",
   "metadata": {},
   "source": [
    "https://jinja.palletsprojects.com/en/stable/templates/\n",
    "\n",
    "Template Inheritance模板繼承¶\n",
    "\n",
    "The most powerful part of Jinja is template inheritance. Template inheritance allows you to build a base “skeleton” template that contains all the common elements of your site and defines blocks that child templates can override.\n",
    "Jinja 最強大的部分是模板繼承。模板繼承可讓您建立一個基本「骨架」模板，其中包含網站的所有常見元素並定義子模板可以覆蓋的區塊 。\n",
    "\n",
    "Sounds complicated but is very basic. It’s easiest to understand it by starting with an example.\n",
    "聽起來很複雜但其實很簡單。從一個例子開始最容易理解。\n",
    "\n",
    "Base Template基礎模板¶\n",
    "This template, which we’ll call base.html, defines a simple HTML skeleton document that you might use for a simple two-column page. It’s the job of “child” templates to fill the empty blocks with content:\n",
    "該模板（我們稱之為 base.html ）定義了一個簡單的 HTML 骨架文檔，您可以將其用於簡單的兩列頁面。 「子」範本的工作是用內容填滿空白塊："
   ]
  }
 ],
 "metadata": {
  "language_info": {
   "name": "python"
  }
 },
 "nbformat": 4,
 "nbformat_minor": 2
}
