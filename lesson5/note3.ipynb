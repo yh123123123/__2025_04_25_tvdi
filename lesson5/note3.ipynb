{
 "cells": [
  {
   "cell_type": "markdown",
   "metadata": {},
   "source": [
    "https://jinja.palletsprojects.com/en/stable/templates/\n",
    "\n",
    "Template Inheritance模板繼承¶\n",
    "\n",
    "The most powerful part of Jinja is template inheritance. Template inheritance allows you to build a base “skeleton” template that contains all the common elements of your site and defines blocks that child templates can override.\n",
    "Jinja 最強大的部分是模板繼承。模板繼承可讓您建立一個基本「骨架」模板，其中包含網站的所有常見元素並定義子模板可以覆蓋的區塊 。\n",
    "\n",
    "Sounds complicated but is very basic. It’s easiest to understand it by starting with an example.\n",
    "聽起來很複雜但其實很簡單。從一個例子開始最容易理解。\n",
    "\n",
    "Base Template基礎模板¶\n",
    "This template, which we’ll call base.html, defines a simple HTML skeleton document that you might use for a simple two-column page. It’s the job of “child” templates to fill the empty blocks with content:\n",
    "該模板（我們稱之為 base.html ）定義了一個簡單的 HTML 骨架文檔，您可以將其用於簡單的兩列頁面。 「子」範本的工作是用內容填滿空白塊："
   ]
  },
  {
   "cell_type": "code",
   "execution_count": null,
   "metadata": {
    "vscode": {
     "languageId": "plaintext"
    }
   },
   "outputs": [],
   "source": [
    "<!DOCTYPE html>\n",
    "<html lang=\"en\">\n",
    "<head>\n",
    "    {% block head %}\n",
    "    <link rel=\"stylesheet\" href=\"style.css\" />\n",
    "    <title>{% block title %}{% endblock %} - My Webpage</title>\n",
    "    {% endblock %}\n",
    "</head>\n",
    "<body>\n",
    "    <div id=\"content\">{% block content %}{% endblock %}</div>\n",
    "    <div id=\"footer\">\n",
    "        {% block footer %}\n",
    "        &copy; Copyright 2008 by <a href=\"http://domain.invalid/\">you</a>.\n",
    "        {% endblock %}\n",
    "    </div>\n",
    "</body>\n",
    "</html>"
   ]
  },
  {
   "cell_type": "markdown",
   "metadata": {},
   "source": [
    "In this example, the {% block %} tags define four blocks that child templates can fill in. All the block tag does is tell the template engine that a child template may override those placeholders in the template.\n",
    "在這個例子中， {% block %} 標籤定義了子模板可以填入的四個區塊。 block block 所做的就是告訴模板引擎子模板可能會覆蓋模板中的那些佔位符。\n",
    "\n",
    "block tags can be inside other blocks such as if, but they will always be executed regardless of if the if block is actually rendered.\n",
    "block 標籤可以位於其他區塊（例如 if ）內，但無論 if 區塊是否實際呈現，它們都將始終被執行。"
   ]
  },
  {
   "cell_type": "markdown",
   "metadata": {},
   "source": [
    "Child Template子模板¶\n",
    "A child template might look like this:\n",
    "子模板可能看起來像這樣：\n",
    "\n",
    "'''\n",
    "{% extends \"base.html\" %}\n",
    "{% block title %}Index{% endblock %}\n",
    "{% block head %}\n",
    "    {{ super() }}\n",
    "    <style type=\"text/css\">\n",
    "        .important { color: #336699; }\n",
    "    </style>\n",
    "{% endblock %}\n",
    "{% block content %}\n",
    "    <h1>Index</h1>\n",
    "    <p class=\"important\">\n",
    "      Welcome to my awesome homepage.\n",
    "    </p>\n",
    "{% endblock %}\n",
    "'''"
   ]
  },
  {
   "cell_type": "code",
   "execution_count": null,
   "metadata": {
    "vscode": {
     "languageId": "plaintext"
    }
   },
   "outputs": [],
   "source": [
    "{% extends \"base.html\" %}"
   ]
  }
 ],
 "metadata": {
  "language_info": {
   "name": "python"
  }
 },
 "nbformat": 4,
 "nbformat_minor": 2
}
