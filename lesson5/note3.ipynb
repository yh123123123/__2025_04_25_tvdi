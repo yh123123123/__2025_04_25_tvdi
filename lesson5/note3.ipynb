{
 "cells": [
  {
   "cell_type": "markdown",
   "metadata": {},
   "source": [
    "https://jinja.palletsprojects.com/en/stable/templates/\n",
    "\n",
    "Template Inheritance模板繼承¶\n",
    "\n",
    "The most powerful part of Jinja is template inheritance. Template inheritance allows you to build a base “skeleton” template that contains all the common elements of your site and defines blocks that child templates can override.\n",
    "Jinja 最強大的部分是模板繼承。模板繼承可讓您建立一個基本「骨架」模板，其中包含網站的所有常見元素並定義子模板可以覆蓋的區塊 。\n",
    "\n",
    "Sounds complicated but is very basic. It’s easiest to understand it by starting with an example.\n",
    "聽起來很複雜但其實很簡單。從一個例子開始最容易理解。\n",
    "\n",
    "Base Template基礎模板¶\n",
    "This template, which we’ll call base.html, defines a simple HTML skeleton document that you might use for a simple two-column page. It’s the job of “child” templates to fill the empty blocks with content:\n",
    "該模板（我們稱之為 base.html ）定義了一個簡單的 HTML 骨架文檔，您可以將其用於簡單的兩列頁面。 「子」範本的工作是用內容填滿空白塊："
   ]
  },
  {
   "cell_type": "code",
   "execution_count": null,
   "metadata": {
    "vscode": {
     "languageId": "plaintext"
    }
   },
   "outputs": [],
   "source": [
    "<!DOCTYPE html>\n",
    "<html lang=\"en\">\n",
    "<head>\n",
    "    {% block head %}\n",
    "    <link rel=\"stylesheet\" href=\"style.css\" />\n",
    "    <title>{% block title %}{% endblock %} - My Webpage</title>\n",
    "    {% endblock %}\n",
    "</head>\n",
    "<body>\n",
    "    <div id=\"content\">{% block content %}{% endblock %}</div>\n",
    "    <div id=\"footer\">\n",
    "        {% block footer %}\n",
    "        &copy; Copyright 2008 by <a href=\"http://domain.invalid/\">you</a>.\n",
    "        {% endblock %}\n",
    "    </div>\n",
    "</body>\n",
    "</html>"
   ]
  },
  {
   "cell_type": "markdown",
   "metadata": {},
   "source": [
    "In this example, the {% block %} tags define four blocks that child templates can fill in. All the block tag does is tell the template engine that a child template may override those placeholders in the template.\n",
    "在這個例子中， {% block %} 標籤定義了子模板可以填入的四個區塊。 block block 所做的就是告訴模板引擎子模板可能會覆蓋模板中的那些佔位符。\n",
    "\n",
    "block tags can be inside other blocks such as if, but they will always be executed regardless of if the if block is actually rendered.\n",
    "block 標籤可以位於其他區塊（例如 if ）內，但無論 if 區塊是否實際呈現，它們都將始終被執行。"
   ]
  },
  {
   "cell_type": "markdown",
   "metadata": {},
   "source": [
    "Child Template子模板¶\n",
    "A child template might look like this:\n",
    "子模板可能看起來像這樣：\n",
    "\n",
    "'''\n",
    "{% extends \"base.html\" %}\n",
    "{% block title %}Index{% endblock %}\n",
    "{% block head %}\n",
    "    {{ super() }}\n",
    "    <style type=\"text/css\">\n",
    "        .important { color: #336699; }\n",
    "    </style>\n",
    "{% endblock %}\n",
    "{% block content %}\n",
    "    <h1>Index</h1>\n",
    "    <p class=\"important\">\n",
    "      Welcome to my awesome homepage.\n",
    "    </p>\n",
    "{% endblock %}\n",
    "'''"
   ]
  },
  {
   "cell_type": "code",
   "execution_count": null,
   "metadata": {
    "vscode": {
     "languageId": "plaintext"
    }
   },
   "outputs": [],
   "source": [
    "{% extends \"base.html\" %}"
   ]
  },
  {
   "cell_type": "code",
   "execution_count": null,
   "metadata": {
    "vscode": {
     "languageId": "plaintext"
    }
   },
   "outputs": [],
   "source": [
    "{% extends \"base.html\" %}\n",
    "{% block title %}\n",
    "職能發展學院-首頁\n",
    "{% endblock %}\n",
    "\n",
    "{%block main%}\n",
    "<h1>{{self.title()}}</h1>\n",
    "{{super()}}\n",
    "{%endblock%}"
   ]
  },
  {
   "cell_type": "code",
   "execution_count": null,
   "metadata": {
    "vscode": {
     "languageId": "plaintext"
    }
   },
   "outputs": [],
   "source": [
    "{% extends \"layout/default.html\" %}"
   ]
  },
  {
   "cell_type": "code",
   "execution_count": null,
   "metadata": {
    "vscode": {
     "languageId": "plaintext"
    }
   },
   "outputs": [],
   "source": [
    "<title>{% block title %}{% endblock %}</title>\n",
    "<h1>{{ self.title() }}</h1>\n",
    "{% block body %}{% endblock %}"
   ]
  },
  {
   "cell_type": "markdown",
   "metadata": {},
   "source": [
    "Super Blocks超級塊¶\n",
    "It’s possible to render the contents of the parent block by calling super(). This gives back the results of the parent block:\n",
    "可以透過呼叫 super() 來呈現父塊的內容。這將傳回父區塊的結果：\n",
    "\n",
    "'''\n",
    "{% block sidebar %}\n",
    "    <h3>Table Of Contents</h3>\n",
    "    ...\n",
    "    {{ super() }}\n",
    "{% endblock %}\n",
    "'''"
   ]
  },
  {
   "cell_type": "markdown",
   "metadata": {},
   "source": [
    "\n",
    "Jinja2內要超連結至route如何操作\n",
    "\n",
    "https://www.perplexity.ai/search/jinja2nei-yao-chao-lian-jie-zh-aIvZoLq_R0ujgGRJmj.SMg\n",
    "\n",
    "\n",
    "\n",
    "<img src=\"https://r2cdn.perplexity.ai/pplx-full-logo-primary-dark%402x.png\" class=\"logo\" width=\"120\"/>\n",
    "\n",
    "## Jinja2 模板中超連結至 Flask route 的方法\n",
    "\n",
    "在 Flask 框架中，Jinja2 是預設的模板引擎。當你要在 HTML 模板中產生指向 Flask 路由的超連結（即 `<a href=\"...\">`），推薦使用 `url_for` 函數。這樣可以避免硬編碼路徑，讓你的程式碼更容易維護且不易出錯。\n",
    "\n",
    "### 基本用法\n",
    "\n",
    "假設你有一個 Flask 路由如下：\n",
    "\n",
    "```python\n",
    "from flask import Flask, render_template\n",
    "\n",
    "app = Flask(__name__)\n",
    "\n",
    "@app.route('/hello')\n",
    "def hello():\n",
    "    return 'Hello, World!'\n",
    "```\n",
    "\n",
    "你可以在 Jinja2 模板（例如 `templates/index.html`）中這樣產生一個超連結：\n",
    "\n",
    "```html\n",
    "<a href=\"{{ url_for('hello') }}\">前往 Hello 頁面</a>\n",
    "```\n",
    "\n",
    "這裡的 `hello` 是你在 Python 程式中定義的函數名稱，而不是 URL 字串[^1][^4][^5]。\n",
    "\n",
    "### 帶參數的路由\n",
    "\n",
    "如果你的路由有參數，例如：\n",
    "\n",
    "```python\n",
    "@app.route('/user/<username>')\n",
    "def user_profile(username):\n",
    "    return f'Hello, {username}!'\n",
    "```\n",
    "\n",
    "那麼在 Jinja2 模板中可以這樣寫：\n",
    "\n",
    "```html\n",
    "<a href=\"{{ url_for('user_profile', username='alice') }}\">Alice 的個人頁</a>\n",
    "```\n",
    "\n",
    "這樣會產生 `/user/alice` 的連結[^5]。\n",
    "\n",
    "### 變數傳遞\n",
    "\n",
    "你也可以在模板中使用變數來動態產生連結：\n",
    "\n",
    "```html\n",
    "<a href=\"{{ url_for('user_profile', username=user.name) }}\">{{ user.name }} 的個人頁</a>\n",
    "```\n",
    "\n",
    "\n",
    "### 完整範例\n",
    "\n",
    "**Python 程式：**\n",
    "\n",
    "```python\n",
    "from flask import Flask, render_template\n",
    "\n",
    "app = Flask(__name__)\n",
    "\n",
    "@app.route('/user/<username>')\n",
    "def user_profile(username):\n",
    "    return f'Hello, {username}!'\n",
    "\n",
    "@app.route('/')\n",
    "def index():\n",
    "    user = {'name': 'alice'}\n",
    "    return render_template('index.html', user=user)\n",
    "```\n",
    "\n",
    "**index.html：**\n",
    "\n",
    "```html\n",
    "<!DOCTYPE html>\n",
    "<html>\n",
    "<head>\n",
    "    <title>首頁</title>\n",
    "</head>\n",
    "<body>\n",
    "    <a href=\"{{ url_for('user_profile', username=user.name) }}\">前往 {{ user.name }} 的個人頁</a>\n",
    "</body>\n",
    "</html>\n",
    "```\n",
    "\n",
    "\n",
    "### 小結\n",
    "\n",
    "- 在 Jinja2 模板中，使用 `{{ url_for('route函數名稱', 參數=值) }}` 產生連結。\n",
    "- 這比直接寫死 URL 更安全且易於維護[^1][^4][^5]。\n",
    "\n",
    "這就是在 Jinja2 模板中超連結至 Flask route 的標準做法。\n",
    "\n",
    "<div style=\"text-align: center\">⁂</div>\n",
    "\n",
    "[^1]: https://blog.csdn.net/YZL40514131/article/details/122756850\n",
    "\n",
    "[^2]: https://blog.csdn.net/lxinxinxin/article/details/108865073\n",
    "\n",
    "[^3]: https://ithelp.ithome.com.tw/m/articles/10223616\n",
    "\n",
    "[^4]: https://www.cnblogs.com/traditional/p/11182444.html\n",
    "\n",
    "[^5]: https://www.cnblogs.com/xp1315458571/articles/17316854.html\n",
    "\n",
    "[^6]: https://devs.tw/post/448\n",
    "\n",
    "[^7]: https://ithelp.ithome.com.tw/articles/10258223\n",
    "\n",
    "[^8]: https://tools.wingzero.tw/article/sn/1271\n",
    "\n"
   ]
  }
 ],
 "metadata": {
  "language_info": {
   "name": "python"
  }
 },
 "nbformat": 4,
 "nbformat_minor": 2
}
