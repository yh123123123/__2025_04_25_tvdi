{
 "cells": [
  {
   "cell_type": "markdown",
   "metadata": {},
   "source": [
    "## 1.請讀取names.txt\n",
    "## 2.將文字儲存於list內\n",
    "## 3.每次執行可以亂數取出3個姓名\n"
   ]
  }
 ],
 "metadata": {
  "language_info": {
   "name": "python"
  }
 },
 "nbformat": 4,
 "nbformat_minor": 2
}
