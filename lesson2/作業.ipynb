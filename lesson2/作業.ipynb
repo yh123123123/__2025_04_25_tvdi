{
 "cells": [
  {
   "cell_type": "markdown",
   "metadata": {},
   "source": [
    "## 1.請讀取names.txt\n",
    "## 2.將文字儲存於list內\n",
    "## 3.每次執行可以亂數取出3個姓名\n"
   ]
  },
  {
   "cell_type": "markdown",
   "metadata": {},
   "source": [
    "以下是Python實現方案，結合檔案讀取、列表處理和隨機抽樣功能：\n",
    "\n",
    "python\n",
    "import random\n",
    "\n",
    "# 1. 讀取names.txt並儲存為列表\n",
    "with open('names.txt', 'r', encoding='utf-8') as file:\n",
    "    name_list = [line.strip() for line in file if line.strip()]  # 去除空白行與換行符[2][7][9]\n",
    "\n",
    "# 2. 亂數取出3個姓名\n",
    "random_names = random.sample(name_list, min(3, len(name_list)))  # 防止列表元素不足[^1^]\n",
    "\n",
    "print(\"隨機抽取的3個姓名：\", random_names)\n",
    "關鍵說明：\n",
    "\n",
    "檔案讀取：使用with open語句自動處理檔案關閉，搭配列表推導式快速過濾無效行\n",
    "\n",
    "亂數取樣：random.sample()確保不重複抽取，min(3, len(name_list))避免列表長度不足報錯\n",
    "\n",
    "編碼處理：加入encoding='utf-8'參數預防中文亂碼問題（根據實際檔案編碼調整）\n",
    "\n",
    "^1^ 若需允許重複抽取，改用random.choices(name_list, k=3)，但需確認name_list非空: 此為補充說明，非直接引用搜索結果內容"
   ]
  },
  {
   "cell_type": "code",
   "execution_count": 11,
   "metadata": {},
   "outputs": [
    {
     "name": "stdout",
     "output_type": "stream",
     "text": [
      "馮芳如\n",
      "\n",
      "朱惠儀\n",
      "\n",
      "黃翔杰\n",
      "\n"
     ]
    }
   ],
   "source": [
    "import random\n",
    "file = open(\"./names.txt\", \"r\", encoding=\"utf-8\")\n",
    "listname = file.readlines()\n",
    "file.close()\n",
    "for i in range(3):\n",
    "    x = random.randint(1,len(listname))\n",
    "    print(listname[x])"
   ]
  }
 ],
 "metadata": {
  "kernelspec": {
   "display_name": ".venv",
   "language": "python",
   "name": "python3"
  },
  "language_info": {
   "codemirror_mode": {
    "name": "ipython",
    "version": 3
   },
   "file_extension": ".py",
   "mimetype": "text/x-python",
   "name": "python",
   "nbconvert_exporter": "python",
   "pygments_lexer": "ipython3",
   "version": "3.13.2"
  }
 },
 "nbformat": 4,
 "nbformat_minor": 2
}
