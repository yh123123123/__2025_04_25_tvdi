{
 "cells": [
  {
   "cell_type": "markdown",
   "metadata": {},
   "source": [
    "## 1.請讀取names.txt\n",
    "## 2.將文字儲存於list內\n",
    "## 3.每次執行可以亂數取出3個姓名\n"
   ]
  },
  {
   "cell_type": "code",
   "execution_count": 29,
   "metadata": {},
   "outputs": [
    {
     "name": "stdout",
     "output_type": "stream",
     "text": [
      "張明惟\n",
      "\n",
      "鍾俞禎\n",
      "\n",
      "鍾俞禎\n",
      "\n"
     ]
    }
   ],
   "source": [
    "import random\n",
    "file = open(\"./names.txt\", \"r\", encoding=\"utf-8\")\n",
    "listname = file.readlines()\n",
    "file.close()\n",
    "for i in range(3):\n",
    "    x = random.randint(1,len(listname))\n",
    "    print(listname[x])"
   ]
  },
  {
   "cell_type": "code",
   "execution_count": 33,
   "metadata": {},
   "outputs": [
    {
     "name": "stdout",
     "output_type": "stream",
     "text": [
      "['周芷蓁', '郭淑真', '戴萱能']\n"
     ]
    }
   ],
   "source": [
    "import random\n",
    "with open('names.txt', 'r', encoding='utf-8') as file:\n",
    "    listname = [line.strip() for line in file if line.strip()] \n",
    "file.close()\n",
    "random_names = random.sample(listname, min(3, len(listname)))\n",
    "print(random_names)"
   ]
  }
 ],
 "metadata": {
  "kernelspec": {
   "display_name": ".venv",
   "language": "python",
   "name": "python3"
  },
  "language_info": {
   "codemirror_mode": {
    "name": "ipython",
    "version": 3
   },
   "file_extension": ".py",
   "mimetype": "text/x-python",
   "name": "python",
   "nbconvert_exporter": "python",
   "pygments_lexer": "ipython3",
   "version": "3.13.2"
  }
 },
 "nbformat": 4,
 "nbformat_minor": 2
}
