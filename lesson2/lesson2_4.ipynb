{
 "cells": [
  {
   "cell_type": "code",
   "execution_count": 3,
   "metadata": {},
   "outputs": [],
   "source": [
    "weeks:dict = {\"monday\":1,\n",
    "              \"tuesday\":2,\n",
    "              \"wednesay\":3,\n",
    "              \"thursday\":4,\n",
    "              \"friday\":5,\n",
    "              \"saturday\":6,\n",
    "              \"sunday\":7}"
   ]
  },
  {
   "cell_type": "code",
   "execution_count": 5,
   "metadata": {},
   "outputs": [],
   "source": [
    "weeks.get('thursday')\n",
    "weeks.get('wednesay')\n",
    "weeks.get('eight')"
   ]
  },
  {
   "cell_type": "code",
   "execution_count": 6,
   "metadata": {},
   "outputs": [
    {
     "data": {
      "text/plain": [
       "['monday', 'tuesday', 'wednesay', 'thursday', 'friday', 'saturday', 'sunday']"
      ]
     },
     "execution_count": 6,
     "metadata": {},
     "output_type": "execute_result"
    }
   ],
   "source": [
    "list(weeks.keys())"
   ]
  },
  {
   "cell_type": "code",
   "execution_count": 8,
   "metadata": {},
   "outputs": [
    {
     "data": {
      "text/plain": [
       "[1, 2, 3, 4, 5, 6, 7]"
      ]
     },
     "execution_count": 8,
     "metadata": {},
     "output_type": "execute_result"
    }
   ],
   "source": [
    "list(weeks.values())"
   ]
  },
  {
   "cell_type": "code",
   "execution_count": null,
   "metadata": {},
   "outputs": [
    {
     "data": {
      "text/plain": [
       "[('monday', 1),\n",
       " ('tuesday', 2),\n",
       " ('wednesay', 3),\n",
       " ('thursday', 4),\n",
       " ('friday', 5),\n",
       " ('saturday', 6),\n",
       " ('sunday', 7)]"
      ]
     },
     "execution_count": 13,
     "metadata": {},
     "output_type": "execute_result"
    }
   ],
   "source": [
    "list(weeks.items())"
   ]
  },
  {
   "cell_type": "code",
   "execution_count": 18,
   "metadata": {},
   "outputs": [
    {
     "name": "stdout",
     "output_type": "stream",
     "text": [
      "monday:1\n",
      "tuesday:2\n",
      "wednesay:3\n",
      "thursday:4\n",
      "friday:5\n",
      "saturday:6\n",
      "sunday:7\n"
     ]
    }
   ],
   "source": [
    "for (key, value) in weeks.items():\n",
    "    print(key,value,sep=\":\")"
   ]
  }
 ],
 "metadata": {
  "kernelspec": {
   "display_name": ".venv",
   "language": "python",
   "name": "python3"
  },
  "language_info": {
   "codemirror_mode": {
    "name": "ipython",
    "version": 3
   },
   "file_extension": ".py",
   "mimetype": "text/x-python",
   "name": "python",
   "nbconvert_exporter": "python",
   "pygments_lexer": "ipython3",
   "version": "3.13.2"
  }
 },
 "nbformat": 4,
 "nbformat_minor": 2
}
